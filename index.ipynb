{
 "cells": [
  {
   "cell_type": "markdown",
   "metadata": {},
   "source": [
    "# Database Admin 101 - Lab\n",
    "\n",
    "## Introduction \n",
    "\n",
    "In this lab, you'll go through the process of designing and creating a database. From there, you'll begin to populate this table with mock data provided to you.\n",
    "\n",
    "## Objectives\n",
    "\n",
    "You will be able to:\n",
    "\n",
    "* Use knowledge of the structure of databases to create a database and populate it"
   ]
  },
  {
   "cell_type": "markdown",
   "metadata": {},
   "source": [
    "## The Scenario\n",
    "\n",
    "You are looking to design a database for a school that will house various information from student grades to contact information, class roster lists and attendance. First, think of how you would design such a database. What tables would you include? What columns would each table have? What would be the primary means to join said tables?"
   ]
  },
  {
   "cell_type": "markdown",
   "metadata": {},
   "source": [
    "## Creating the Database\n",
    "\n",
    "Now that you've put a little thought into how you might design your database, it's time to go ahead and create it! Start by import the necessary packages. Then, create a database called **school.sqlite**."
   ]
  },
  {
   "cell_type": "code",
   "execution_count": 1,
   "metadata": {},
   "outputs": [],
   "source": [
    "# Import necessary packages\n",
    "import sqlite3\n",
    "import pandas as pd\n"
   ]
  },
  {
   "cell_type": "code",
   "execution_count": 2,
   "metadata": {},
   "outputs": [
    {
     "name": "stdout",
     "output_type": "stream",
     "text": [
      "CONTRIBUTING.md      contactInfo          school.sqlite\r\n",
      "LICENSE.md           contact_list.pickle\r\n",
      "README.md            index.ipynb\r\n"
     ]
    }
   ],
   "source": [
    "ls"
   ]
  },
  {
   "cell_type": "code",
   "execution_count": 3,
   "metadata": {},
   "outputs": [],
   "source": [
    "# Create the database school.sqlite \n",
    "conn = sqlite3.connect('school.sqlite')\n",
    "cur = conn.cursor()\n"
   ]
  },
  {
   "cell_type": "markdown",
   "metadata": {},
   "source": [
    "## Create a Table for Contact Information\n",
    "\n",
    "Create a table called contactInfo to house contact information for both students and staff. Be sure to include columns for first name, last name, role (student/staff), telephone number, street, city, state, and zipcode. Be sure to also create a primary key for the table. "
   ]
  },
  {
   "cell_type": "code",
   "execution_count": 4,
   "metadata": {},
   "outputs": [
    {
     "ename": "OperationalError",
     "evalue": "table contactInfo already exists",
     "output_type": "error",
     "traceback": [
      "\u001b[0;31m---------------------------------------------------------------------------\u001b[0m",
      "\u001b[0;31mOperationalError\u001b[0m                          Traceback (most recent call last)",
      "\u001b[0;32m<ipython-input-4-bd5d16d94867>\u001b[0m in \u001b[0;36m<module>\u001b[0;34m\u001b[0m\n\u001b[1;32m     11\u001b[0m                 \u001b[0mstate\u001b[0m \u001b[0mTEXT\u001b[0m\u001b[0;34m,\u001b[0m\u001b[0;34m\u001b[0m\u001b[0;34m\u001b[0m\u001b[0m\n\u001b[1;32m     12\u001b[0m                 zipcode INTEGER)\n\u001b[0;32m---> 13\u001b[0;31m ''')\n\u001b[0m",
      "\u001b[0;31mOperationalError\u001b[0m: table contactInfo already exists"
     ]
    }
   ],
   "source": [
    "# Your code here\n",
    "cur.execute('''\n",
    "CREATE TABLE contactInfo (\n",
    "                id INTEGER PRIMARY KEY,\n",
    "                firstName TEXT,\n",
    "                lastName TEXT,\n",
    "                role TEXT,\n",
    "                telephoneNumber INTEGER,\n",
    "                street TEXT,\n",
    "                city TEXT,\n",
    "                state TEXT,\n",
    "                zipcode INTEGER)\n",
    "''')"
   ]
  },
  {
   "cell_type": "markdown",
   "metadata": {},
   "source": [
    "## Populate the Table\n",
    "\n",
    "Below, code is provided for you in order to load a list of dictionaries. Briefly examine the list. Each dictionary in the list will serve as an entry for your contact info table. Once you've briefly investigated the structure of this data, write a for loop to iterate through the list and create an entry in your table for each person's contact info."
   ]
  },
  {
   "cell_type": "code",
   "execution_count": 5,
   "metadata": {},
   "outputs": [],
   "source": [
    "# Load the list of dictionaries; just run this cell\n",
    "import pickle\n",
    "\n",
    "with open('contact_list.pickle', 'rb') as f:\n",
    "    contacts = pickle.load(f)\n",
    "    "
   ]
  },
  {
   "cell_type": "code",
   "execution_count": 6,
   "metadata": {},
   "outputs": [
    {
     "data": {
      "text/plain": [
       "[{'firstName': 'Christine',\n",
       "  'lastName': 'Holden',\n",
       "  'role': 'staff',\n",
       "  'telephone ': 2035687697,\n",
       "  'street': '1672 Whitman Court',\n",
       "  'city': 'Stamford',\n",
       "  'state': 'CT',\n",
       "  'zipcode ': '06995'},\n",
       " {'firstName': 'Christopher',\n",
       "  'lastName': 'Warren',\n",
       "  'role': 'student',\n",
       "  'telephone ': 2175150957,\n",
       "  'street': '1935 University Hill Road',\n",
       "  'city': 'Champaign',\n",
       "  'state': 'IL',\n",
       "  'zipcode ': '61938'},\n",
       " {'firstName': 'Linda',\n",
       "  'lastName': 'Jacobson',\n",
       "  'role': 'staff',\n",
       "  'telephone ': 4049446441,\n",
       "  'street': '479 Musgrave Street',\n",
       "  'city': 'Atlanta',\n",
       "  'state': 'GA',\n",
       "  'zipcode ': '30303'},\n",
       " {'firstName': 'Andrew',\n",
       "  'lastName': 'Stepp',\n",
       "  'role': 'student',\n",
       "  'telephone ': 7866419252,\n",
       "  'street': '2981 Lamberts Branch Road',\n",
       "  'city': 'Hialeah',\n",
       "  'state': 'Fl',\n",
       "  'zipcode ': '33012'},\n",
       " {'firstName': 'Jane',\n",
       "  'lastName': 'Evans',\n",
       "  'role': 'student',\n",
       "  'telephone ': 3259909290,\n",
       "  'street': '1461 Briarhill Lane',\n",
       "  'city': 'Abilene',\n",
       "  'state': 'TX',\n",
       "  'zipcode ': '79602'},\n",
       " {'firstName': 'Jane',\n",
       "  'lastName': 'Evans',\n",
       "  'role': 'student',\n",
       "  'telephone ': 3259909290,\n",
       "  'street': '1461 Briarhill Lane',\n",
       "  'city': 'Abilene',\n",
       "  'state': 'TX',\n",
       "  'zipcode ': '79602'},\n",
       " {'firstName': 'Mary',\n",
       "  'lastName': 'Raines',\n",
       "  'role': 'student',\n",
       "  'telephone ': 9075772295,\n",
       "  'street': '3975 Jerry Toth Drive',\n",
       "  'city': 'Ninilchik',\n",
       "  'state': 'AK',\n",
       "  'zipcode ': '99639'},\n",
       " {'firstName': 'Ed',\n",
       "  'lastName': 'Lyman',\n",
       "  'role': 'student',\n",
       "  'telephone ': 5179695576,\n",
       "  'street': '3478 Be Sreet',\n",
       "  'city': 'Lansing',\n",
       "  'state': 'MI',\n",
       "  'zipcode ': '48933'}]"
      ]
     },
     "execution_count": 6,
     "metadata": {},
     "output_type": "execute_result"
    }
   ],
   "source": [
    "contacts"
   ]
  },
  {
   "cell_type": "code",
   "execution_count": 7,
   "metadata": {},
   "outputs": [],
   "source": [
    "# Iterate over the contact list and populate the contactInfo table here\n",
    "for contact in contacts:\n",
    "    fn = contact['firstName']\n",
    "    ln = contact['lastName']\n",
    "    role = contact['role']\n",
    "    telephone = contact['telephone ']\n",
    "    street = contact['street']\n",
    "    city = contact['city']\n",
    "    state = contact['state']\n",
    "    zipcode = contact['zipcode ']\n",
    "    cur.execute(f'''\n",
    "    INSERT INTO contactInfo (firstName, lastName, role, telephoneNumber, street, city, state, zipcode)\n",
    "    VALUES ('{fn}', '{ln}', '{role}', '{telephone}', '{street}', '{city}', '{state}', '{zipcode}');\n",
    "    ''')"
   ]
  },
  {
   "cell_type": "markdown",
   "metadata": {},
   "source": [
    "**Query the Table to Ensure it is populated**"
   ]
  },
  {
   "cell_type": "code",
   "execution_count": 8,
   "metadata": {},
   "outputs": [
    {
     "data": {
      "text/html": [
       "<div>\n",
       "<style scoped>\n",
       "    .dataframe tbody tr th:only-of-type {\n",
       "        vertical-align: middle;\n",
       "    }\n",
       "\n",
       "    .dataframe tbody tr th {\n",
       "        vertical-align: top;\n",
       "    }\n",
       "\n",
       "    .dataframe thead th {\n",
       "        text-align: right;\n",
       "    }\n",
       "</style>\n",
       "<table border=\"1\" class=\"dataframe\">\n",
       "  <thead>\n",
       "    <tr style=\"text-align: right;\">\n",
       "      <th></th>\n",
       "      <th>id</th>\n",
       "      <th>firstName</th>\n",
       "      <th>lastName</th>\n",
       "      <th>role</th>\n",
       "      <th>telephoneNumber</th>\n",
       "      <th>street</th>\n",
       "      <th>city</th>\n",
       "      <th>state</th>\n",
       "      <th>zipcode</th>\n",
       "    </tr>\n",
       "  </thead>\n",
       "  <tbody>\n",
       "    <tr>\n",
       "      <th>0</th>\n",
       "      <td>1</td>\n",
       "      <td>Christine</td>\n",
       "      <td>Holden</td>\n",
       "      <td>staff</td>\n",
       "      <td>2035687697</td>\n",
       "      <td>1672 Whitman Court</td>\n",
       "      <td>Stamford</td>\n",
       "      <td>CT</td>\n",
       "      <td>6995</td>\n",
       "    </tr>\n",
       "    <tr>\n",
       "      <th>1</th>\n",
       "      <td>2</td>\n",
       "      <td>Christopher</td>\n",
       "      <td>Warren</td>\n",
       "      <td>student</td>\n",
       "      <td>2175150957</td>\n",
       "      <td>1935 University Hill Road</td>\n",
       "      <td>Champaign</td>\n",
       "      <td>IL</td>\n",
       "      <td>61938</td>\n",
       "    </tr>\n",
       "    <tr>\n",
       "      <th>2</th>\n",
       "      <td>3</td>\n",
       "      <td>Linda</td>\n",
       "      <td>Jacobson</td>\n",
       "      <td>staff</td>\n",
       "      <td>4049446441</td>\n",
       "      <td>479 Musgrave Street</td>\n",
       "      <td>Atlanta</td>\n",
       "      <td>GA</td>\n",
       "      <td>30303</td>\n",
       "    </tr>\n",
       "    <tr>\n",
       "      <th>3</th>\n",
       "      <td>4</td>\n",
       "      <td>Andrew</td>\n",
       "      <td>Stepp</td>\n",
       "      <td>student</td>\n",
       "      <td>7866419252</td>\n",
       "      <td>2981 Lamberts Branch Road</td>\n",
       "      <td>Hialeah</td>\n",
       "      <td>Fl</td>\n",
       "      <td>33012</td>\n",
       "    </tr>\n",
       "    <tr>\n",
       "      <th>4</th>\n",
       "      <td>5</td>\n",
       "      <td>Jane</td>\n",
       "      <td>Evans</td>\n",
       "      <td>student</td>\n",
       "      <td>3259909290</td>\n",
       "      <td>1461 Briarhill Lane</td>\n",
       "      <td>Abilene</td>\n",
       "      <td>TX</td>\n",
       "      <td>79602</td>\n",
       "    </tr>\n",
       "  </tbody>\n",
       "</table>\n",
       "</div>"
      ],
      "text/plain": [
       "   id    firstName  lastName     role  telephoneNumber  \\\n",
       "0   1    Christine    Holden    staff       2035687697   \n",
       "1   2  Christopher    Warren  student       2175150957   \n",
       "2   3        Linda  Jacobson    staff       4049446441   \n",
       "3   4       Andrew     Stepp  student       7866419252   \n",
       "4   5         Jane     Evans  student       3259909290   \n",
       "\n",
       "                      street       city state  zipcode  \n",
       "0         1672 Whitman Court   Stamford    CT     6995  \n",
       "1  1935 University Hill Road  Champaign    IL    61938  \n",
       "2        479 Musgrave Street    Atlanta    GA    30303  \n",
       "3  2981 Lamberts Branch Road    Hialeah    Fl    33012  \n",
       "4        1461 Briarhill Lane    Abilene    TX    79602  "
      ]
     },
     "execution_count": 8,
     "metadata": {},
     "output_type": "execute_result"
    }
   ],
   "source": [
    "# Your code here \n",
    "cur.execute('''\n",
    "SELECT *\n",
    "FROM contactInfo\n",
    "''')\n",
    "df = pd.DataFrame(cur.fetchall())\n",
    "df.columns = [x[0] for x in cur.description]\n",
    "df.head()"
   ]
  },
  {
   "cell_type": "markdown",
   "metadata": {},
   "source": [
    "## Commit Your Changes to the Database\n",
    "\n",
    "Persist your changes by committing them to the database."
   ]
  },
  {
   "cell_type": "code",
   "execution_count": 9,
   "metadata": {},
   "outputs": [],
   "source": [
    "# Your code here\n",
    "conn.commit()\n"
   ]
  },
  {
   "cell_type": "markdown",
   "metadata": {},
   "source": [
    "## Create a Table for Student Grades\n",
    "\n",
    "Create a new table in the database called \"grades\". In the table, include the following fields: userId, courseId, grade.\n",
    "\n",
    "** This problem is a bit more tricky and will require a dual key. (A nuance you have yet to see.)\n",
    "Here's how to do that:\n",
    "\n",
    "```SQL\n",
    "CREATE TABLE table_name(\n",
    "   column_1 INTEGER NOT NULL,\n",
    "   column_2 INTEGER NOT NULL,\n",
    "   ...\n",
    "   PRIMARY KEY(column_1,column_2,...)\n",
    ");\n",
    "```"
   ]
  },
  {
   "cell_type": "code",
   "execution_count": 10,
   "metadata": {},
   "outputs": [
    {
     "ename": "OperationalError",
     "evalue": "table grades already exists",
     "output_type": "error",
     "traceback": [
      "\u001b[0;31m---------------------------------------------------------------------------\u001b[0m",
      "\u001b[0;31mOperationalError\u001b[0m                          Traceback (most recent call last)",
      "\u001b[0;32m<ipython-input-10-639c086b092e>\u001b[0m in \u001b[0;36m<module>\u001b[0;34m\u001b[0m\n\u001b[1;32m      6\u001b[0m                     \u001b[0mgrade\u001b[0m \u001b[0mTEXT\u001b[0m\u001b[0;34m,\u001b[0m\u001b[0;34m\u001b[0m\u001b[0;34m\u001b[0m\u001b[0m\n\u001b[1;32m      7\u001b[0m                     PRIMARY KEY(id, course_id))\n\u001b[0;32m----> 8\u001b[0;31m ''')\n\u001b[0m",
      "\u001b[0;31mOperationalError\u001b[0m: table grades already exists"
     ]
    }
   ],
   "source": [
    "# Create the grades table\n",
    "cur.execute('''\n",
    "CREATE TABLE grades(\n",
    "                    id INTEGER NOT NULL,\n",
    "                    course_id INTEGER NOT NULL,\n",
    "                    grade TEXT,\n",
    "                    PRIMARY KEY(id, course_id))\n",
    "''')"
   ]
  },
  {
   "cell_type": "markdown",
   "metadata": {},
   "source": [
    "## Remove Duplicate Entries\n",
    "\n",
    "An analyst just realized that there is a duplicate entry in the contactInfo table! Find and remove it."
   ]
  },
  {
   "cell_type": "code",
   "execution_count": 11,
   "metadata": {},
   "outputs": [
    {
     "data": {
      "text/plain": [
       "[('Andrew', 'Stepp', 2),\n",
       " ('Christine', 'Holden', 2),\n",
       " ('Christopher', 'Warren', 2),\n",
       " ('Ed', 'Lyman', 2),\n",
       " ('Jane', 'Evans', 4),\n",
       " ('Linda', 'Jacobson', 2),\n",
       " ('Mary', 'Raines', 2)]"
      ]
     },
     "execution_count": 11,
     "metadata": {},
     "output_type": "execute_result"
    }
   ],
   "source": [
    "# Find the duplicate entrydf\n",
    "cur.execute('''SELECT firstName, lastName, COUNT(*)\n",
    "FROM contactInfo\n",
    "GROUP BY 1, 2\n",
    "\n",
    "''').fetchall()"
   ]
  },
  {
   "cell_type": "code",
   "execution_count": 12,
   "metadata": {},
   "outputs": [
    {
     "data": {
      "text/html": [
       "<div>\n",
       "<style scoped>\n",
       "    .dataframe tbody tr th:only-of-type {\n",
       "        vertical-align: middle;\n",
       "    }\n",
       "\n",
       "    .dataframe tbody tr th {\n",
       "        vertical-align: top;\n",
       "    }\n",
       "\n",
       "    .dataframe thead th {\n",
       "        text-align: right;\n",
       "    }\n",
       "</style>\n",
       "<table border=\"1\" class=\"dataframe\">\n",
       "  <thead>\n",
       "    <tr style=\"text-align: right;\">\n",
       "      <th></th>\n",
       "      <th>id</th>\n",
       "      <th>firstName</th>\n",
       "      <th>lastName</th>\n",
       "      <th>role</th>\n",
       "      <th>telephoneNumber</th>\n",
       "      <th>street</th>\n",
       "      <th>city</th>\n",
       "      <th>state</th>\n",
       "      <th>zipcode</th>\n",
       "    </tr>\n",
       "  </thead>\n",
       "  <tbody>\n",
       "    <tr>\n",
       "      <th>0</th>\n",
       "      <td>1</td>\n",
       "      <td>Christine</td>\n",
       "      <td>Holden</td>\n",
       "      <td>staff</td>\n",
       "      <td>2035687697</td>\n",
       "      <td>1672 Whitman Court</td>\n",
       "      <td>Stamford</td>\n",
       "      <td>CT</td>\n",
       "      <td>6995</td>\n",
       "    </tr>\n",
       "    <tr>\n",
       "      <th>1</th>\n",
       "      <td>2</td>\n",
       "      <td>Christopher</td>\n",
       "      <td>Warren</td>\n",
       "      <td>student</td>\n",
       "      <td>2175150957</td>\n",
       "      <td>1935 University Hill Road</td>\n",
       "      <td>Champaign</td>\n",
       "      <td>IL</td>\n",
       "      <td>61938</td>\n",
       "    </tr>\n",
       "    <tr>\n",
       "      <th>2</th>\n",
       "      <td>3</td>\n",
       "      <td>Linda</td>\n",
       "      <td>Jacobson</td>\n",
       "      <td>staff</td>\n",
       "      <td>4049446441</td>\n",
       "      <td>479 Musgrave Street</td>\n",
       "      <td>Atlanta</td>\n",
       "      <td>GA</td>\n",
       "      <td>30303</td>\n",
       "    </tr>\n",
       "    <tr>\n",
       "      <th>3</th>\n",
       "      <td>4</td>\n",
       "      <td>Andrew</td>\n",
       "      <td>Stepp</td>\n",
       "      <td>student</td>\n",
       "      <td>7866419252</td>\n",
       "      <td>2981 Lamberts Branch Road</td>\n",
       "      <td>Hialeah</td>\n",
       "      <td>Fl</td>\n",
       "      <td>33012</td>\n",
       "    </tr>\n",
       "    <tr>\n",
       "      <th>4</th>\n",
       "      <td>5</td>\n",
       "      <td>Jane</td>\n",
       "      <td>Evans</td>\n",
       "      <td>student</td>\n",
       "      <td>3259909290</td>\n",
       "      <td>1461 Briarhill Lane</td>\n",
       "      <td>Abilene</td>\n",
       "      <td>TX</td>\n",
       "      <td>79602</td>\n",
       "    </tr>\n",
       "    <tr>\n",
       "      <th>5</th>\n",
       "      <td>6</td>\n",
       "      <td>Jane</td>\n",
       "      <td>Evans</td>\n",
       "      <td>student</td>\n",
       "      <td>3259909290</td>\n",
       "      <td>1461 Briarhill Lane</td>\n",
       "      <td>Abilene</td>\n",
       "      <td>TX</td>\n",
       "      <td>79602</td>\n",
       "    </tr>\n",
       "    <tr>\n",
       "      <th>6</th>\n",
       "      <td>7</td>\n",
       "      <td>Mary</td>\n",
       "      <td>Raines</td>\n",
       "      <td>student</td>\n",
       "      <td>9075772295</td>\n",
       "      <td>3975 Jerry Toth Drive</td>\n",
       "      <td>Ninilchik</td>\n",
       "      <td>AK</td>\n",
       "      <td>99639</td>\n",
       "    </tr>\n",
       "    <tr>\n",
       "      <th>7</th>\n",
       "      <td>8</td>\n",
       "      <td>Ed</td>\n",
       "      <td>Lyman</td>\n",
       "      <td>student</td>\n",
       "      <td>5179695576</td>\n",
       "      <td>3478 Be Sreet</td>\n",
       "      <td>Lansing</td>\n",
       "      <td>MI</td>\n",
       "      <td>48933</td>\n",
       "    </tr>\n",
       "    <tr>\n",
       "      <th>8</th>\n",
       "      <td>9</td>\n",
       "      <td>Christine</td>\n",
       "      <td>Holden</td>\n",
       "      <td>staff</td>\n",
       "      <td>2035687697</td>\n",
       "      <td>1672 Whitman Court</td>\n",
       "      <td>Stamford</td>\n",
       "      <td>CT</td>\n",
       "      <td>6995</td>\n",
       "    </tr>\n",
       "    <tr>\n",
       "      <th>9</th>\n",
       "      <td>10</td>\n",
       "      <td>Christopher</td>\n",
       "      <td>Warren</td>\n",
       "      <td>student</td>\n",
       "      <td>2175150957</td>\n",
       "      <td>1935 University Hill Road</td>\n",
       "      <td>Champaign</td>\n",
       "      <td>IL</td>\n",
       "      <td>61938</td>\n",
       "    </tr>\n",
       "    <tr>\n",
       "      <th>10</th>\n",
       "      <td>11</td>\n",
       "      <td>Linda</td>\n",
       "      <td>Jacobson</td>\n",
       "      <td>staff</td>\n",
       "      <td>4049446441</td>\n",
       "      <td>479 Musgrave Street</td>\n",
       "      <td>Atlanta</td>\n",
       "      <td>GA</td>\n",
       "      <td>30303</td>\n",
       "    </tr>\n",
       "    <tr>\n",
       "      <th>11</th>\n",
       "      <td>12</td>\n",
       "      <td>Andrew</td>\n",
       "      <td>Stepp</td>\n",
       "      <td>student</td>\n",
       "      <td>7866419252</td>\n",
       "      <td>2981 Lamberts Branch Road</td>\n",
       "      <td>Hialeah</td>\n",
       "      <td>Fl</td>\n",
       "      <td>33012</td>\n",
       "    </tr>\n",
       "    <tr>\n",
       "      <th>12</th>\n",
       "      <td>13</td>\n",
       "      <td>Jane</td>\n",
       "      <td>Evans</td>\n",
       "      <td>student</td>\n",
       "      <td>3259909290</td>\n",
       "      <td>1461 Briarhill Lane</td>\n",
       "      <td>Abilene</td>\n",
       "      <td>TX</td>\n",
       "      <td>79602</td>\n",
       "    </tr>\n",
       "    <tr>\n",
       "      <th>13</th>\n",
       "      <td>14</td>\n",
       "      <td>Jane</td>\n",
       "      <td>Evans</td>\n",
       "      <td>student</td>\n",
       "      <td>3259909290</td>\n",
       "      <td>1461 Briarhill Lane</td>\n",
       "      <td>Abilene</td>\n",
       "      <td>TX</td>\n",
       "      <td>79602</td>\n",
       "    </tr>\n",
       "    <tr>\n",
       "      <th>14</th>\n",
       "      <td>15</td>\n",
       "      <td>Mary</td>\n",
       "      <td>Raines</td>\n",
       "      <td>student</td>\n",
       "      <td>9075772295</td>\n",
       "      <td>3975 Jerry Toth Drive</td>\n",
       "      <td>Ninilchik</td>\n",
       "      <td>AK</td>\n",
       "      <td>99639</td>\n",
       "    </tr>\n",
       "    <tr>\n",
       "      <th>15</th>\n",
       "      <td>16</td>\n",
       "      <td>Ed</td>\n",
       "      <td>Lyman</td>\n",
       "      <td>student</td>\n",
       "      <td>5179695576</td>\n",
       "      <td>3478 Be Sreet</td>\n",
       "      <td>Lansing</td>\n",
       "      <td>MI</td>\n",
       "      <td>48933</td>\n",
       "    </tr>\n",
       "  </tbody>\n",
       "</table>\n",
       "</div>"
      ],
      "text/plain": [
       "    id    firstName  lastName     role  telephoneNumber  \\\n",
       "0    1    Christine    Holden    staff       2035687697   \n",
       "1    2  Christopher    Warren  student       2175150957   \n",
       "2    3        Linda  Jacobson    staff       4049446441   \n",
       "3    4       Andrew     Stepp  student       7866419252   \n",
       "4    5         Jane     Evans  student       3259909290   \n",
       "5    6         Jane     Evans  student       3259909290   \n",
       "6    7         Mary    Raines  student       9075772295   \n",
       "7    8           Ed     Lyman  student       5179695576   \n",
       "8    9    Christine    Holden    staff       2035687697   \n",
       "9   10  Christopher    Warren  student       2175150957   \n",
       "10  11        Linda  Jacobson    staff       4049446441   \n",
       "11  12       Andrew     Stepp  student       7866419252   \n",
       "12  13         Jane     Evans  student       3259909290   \n",
       "13  14         Jane     Evans  student       3259909290   \n",
       "14  15         Mary    Raines  student       9075772295   \n",
       "15  16           Ed     Lyman  student       5179695576   \n",
       "\n",
       "                       street       city state  zipcode  \n",
       "0          1672 Whitman Court   Stamford    CT     6995  \n",
       "1   1935 University Hill Road  Champaign    IL    61938  \n",
       "2         479 Musgrave Street    Atlanta    GA    30303  \n",
       "3   2981 Lamberts Branch Road    Hialeah    Fl    33012  \n",
       "4         1461 Briarhill Lane    Abilene    TX    79602  \n",
       "5         1461 Briarhill Lane    Abilene    TX    79602  \n",
       "6       3975 Jerry Toth Drive  Ninilchik    AK    99639  \n",
       "7               3478 Be Sreet    Lansing    MI    48933  \n",
       "8          1672 Whitman Court   Stamford    CT     6995  \n",
       "9   1935 University Hill Road  Champaign    IL    61938  \n",
       "10        479 Musgrave Street    Atlanta    GA    30303  \n",
       "11  2981 Lamberts Branch Road    Hialeah    Fl    33012  \n",
       "12        1461 Briarhill Lane    Abilene    TX    79602  \n",
       "13        1461 Briarhill Lane    Abilene    TX    79602  \n",
       "14      3975 Jerry Toth Drive  Ninilchik    AK    99639  \n",
       "15              3478 Be Sreet    Lansing    MI    48933  "
      ]
     },
     "execution_count": 12,
     "metadata": {},
     "output_type": "execute_result"
    }
   ],
   "source": [
    "df"
   ]
  },
  {
   "cell_type": "code",
   "execution_count": 33,
   "metadata": {},
   "outputs": [
    {
     "data": {
      "text/plain": [
       "<sqlite3.Cursor at 0x7fdf7292c650>"
      ]
     },
     "execution_count": 33,
     "metadata": {},
     "output_type": "execute_result"
    }
   ],
   "source": [
    "# Delete the duplicate entry\n",
    "cur.execute('''\n",
    "DELETE FROM contactInfo\n",
    "WHERE  id = 5; \n",
    "''')"
   ]
  },
  {
   "cell_type": "code",
   "execution_count": 22,
   "metadata": {},
   "outputs": [
    {
     "data": {
      "text/plain": [
       "<sqlite3.Cursor at 0x7fdf7292c650>"
      ]
     },
     "execution_count": 22,
     "metadata": {},
     "output_type": "execute_result"
    }
   ],
   "source": [
    "cur.execute('''\n",
    "DELETE FROM contactInfo\n",
    "WHERE  id = 8; \n",
    "''')"
   ]
  },
  {
   "cell_type": "code",
   "execution_count": 23,
   "metadata": {},
   "outputs": [
    {
     "data": {
      "text/plain": [
       "<sqlite3.Cursor at 0x7fdf7292c650>"
      ]
     },
     "execution_count": 23,
     "metadata": {},
     "output_type": "execute_result"
    }
   ],
   "source": [
    "cur.execute('''\n",
    "DELETE FROM contactInfo\n",
    "WHERE  id = 9; \n",
    "''')"
   ]
  },
  {
   "cell_type": "code",
   "execution_count": 24,
   "metadata": {},
   "outputs": [
    {
     "data": {
      "text/plain": [
       "<sqlite3.Cursor at 0x7fdf7292c650>"
      ]
     },
     "execution_count": 24,
     "metadata": {},
     "output_type": "execute_result"
    }
   ],
   "source": [
    "cur.execute('''\n",
    "DELETE FROM contactInfo\n",
    "WHERE  id = 10; \n",
    "''')"
   ]
  },
  {
   "cell_type": "code",
   "execution_count": 25,
   "metadata": {},
   "outputs": [
    {
     "data": {
      "text/plain": [
       "<sqlite3.Cursor at 0x7fdf7292c650>"
      ]
     },
     "execution_count": 25,
     "metadata": {},
     "output_type": "execute_result"
    }
   ],
   "source": [
    "cur.execute('''\n",
    "DELETE FROM contactInfo\n",
    "WHERE  id = 11; \n",
    "''')"
   ]
  },
  {
   "cell_type": "code",
   "execution_count": 30,
   "metadata": {},
   "outputs": [
    {
     "data": {
      "text/plain": [
       "<sqlite3.Cursor at 0x7fdf7292c650>"
      ]
     },
     "execution_count": 30,
     "metadata": {},
     "output_type": "execute_result"
    }
   ],
   "source": [
    "cur.execute('''\n",
    "DELETE FROM contactInfo\n",
    "WHERE  id = 12; \n",
    "''')"
   ]
  },
  {
   "cell_type": "code",
   "execution_count": 31,
   "metadata": {},
   "outputs": [
    {
     "data": {
      "text/plain": [
       "<sqlite3.Cursor at 0x7fdf7292c650>"
      ]
     },
     "execution_count": 31,
     "metadata": {},
     "output_type": "execute_result"
    }
   ],
   "source": [
    "cur.execute('''\n",
    "DELETE FROM contactInfo\n",
    "WHERE  id = 13; \n",
    "''')"
   ]
  },
  {
   "cell_type": "code",
   "execution_count": null,
   "metadata": {},
   "outputs": [],
   "source": [
    "cur.execute('''\n",
    "DELETE FROM contactInfo\n",
    "WHERE  id = 14; \n",
    "''')"
   ]
  },
  {
   "cell_type": "code",
   "execution_count": 37,
   "metadata": {},
   "outputs": [
    {
     "data": {
      "text/plain": [
       "<sqlite3.Cursor at 0x7fdf7292c650>"
      ]
     },
     "execution_count": 37,
     "metadata": {},
     "output_type": "execute_result"
    }
   ],
   "source": [
    "cur.execute('''\n",
    "DELETE FROM contactInfo\n",
    "WHERE  id = 15; \n",
    "''')"
   ]
  },
  {
   "cell_type": "code",
   "execution_count": 38,
   "metadata": {},
   "outputs": [
    {
     "data": {
      "text/plain": [
       "[('Andrew', 'Stepp', 1),\n",
       " ('Christine', 'Holden', 1),\n",
       " ('Christopher', 'Warren', 1),\n",
       " ('Ed', 'Lyman', 1),\n",
       " ('Jane', 'Evans', 2),\n",
       " ('Linda', 'Jacobson', 1),\n",
       " ('Mary', 'Raines', 1)]"
      ]
     },
     "execution_count": 38,
     "metadata": {},
     "output_type": "execute_result"
    }
   ],
   "source": [
    "# Check that the duplicate entry was removed\n",
    "cur.execute('''SELECT firstName, lastName, COUNT(*)\n",
    "FROM contactInfo\n",
    "GROUP BY 1, 2\n",
    "\n",
    "''').fetchall()"
   ]
  },
  {
   "cell_type": "code",
   "execution_count": 39,
   "metadata": {},
   "outputs": [
    {
     "data": {
      "text/html": [
       "<div>\n",
       "<style scoped>\n",
       "    .dataframe tbody tr th:only-of-type {\n",
       "        vertical-align: middle;\n",
       "    }\n",
       "\n",
       "    .dataframe tbody tr th {\n",
       "        vertical-align: top;\n",
       "    }\n",
       "\n",
       "    .dataframe thead th {\n",
       "        text-align: right;\n",
       "    }\n",
       "</style>\n",
       "<table border=\"1\" class=\"dataframe\">\n",
       "  <thead>\n",
       "    <tr style=\"text-align: right;\">\n",
       "      <th></th>\n",
       "      <th>id</th>\n",
       "      <th>firstName</th>\n",
       "      <th>lastName</th>\n",
       "      <th>role</th>\n",
       "      <th>telephoneNumber</th>\n",
       "      <th>street</th>\n",
       "      <th>city</th>\n",
       "      <th>state</th>\n",
       "      <th>zipcode</th>\n",
       "    </tr>\n",
       "  </thead>\n",
       "  <tbody>\n",
       "    <tr>\n",
       "      <th>0</th>\n",
       "      <td>1</td>\n",
       "      <td>Christine</td>\n",
       "      <td>Holden</td>\n",
       "      <td>staff</td>\n",
       "      <td>2035687697</td>\n",
       "      <td>1672 Whitman Court</td>\n",
       "      <td>Stamford</td>\n",
       "      <td>CT</td>\n",
       "      <td>6995</td>\n",
       "    </tr>\n",
       "    <tr>\n",
       "      <th>1</th>\n",
       "      <td>2</td>\n",
       "      <td>Christopher</td>\n",
       "      <td>Warren</td>\n",
       "      <td>student</td>\n",
       "      <td>2175150957</td>\n",
       "      <td>1935 University Hill Road</td>\n",
       "      <td>Champaign</td>\n",
       "      <td>IL</td>\n",
       "      <td>61938</td>\n",
       "    </tr>\n",
       "    <tr>\n",
       "      <th>2</th>\n",
       "      <td>3</td>\n",
       "      <td>Linda</td>\n",
       "      <td>Jacobson</td>\n",
       "      <td>staff</td>\n",
       "      <td>4049446441</td>\n",
       "      <td>479 Musgrave Street</td>\n",
       "      <td>Atlanta</td>\n",
       "      <td>GA</td>\n",
       "      <td>30303</td>\n",
       "    </tr>\n",
       "    <tr>\n",
       "      <th>3</th>\n",
       "      <td>4</td>\n",
       "      <td>Andrew</td>\n",
       "      <td>Stepp</td>\n",
       "      <td>student</td>\n",
       "      <td>7866419252</td>\n",
       "      <td>2981 Lamberts Branch Road</td>\n",
       "      <td>Hialeah</td>\n",
       "      <td>Fl</td>\n",
       "      <td>33012</td>\n",
       "    </tr>\n",
       "    <tr>\n",
       "      <th>4</th>\n",
       "      <td>5</td>\n",
       "      <td>Jane</td>\n",
       "      <td>Evans</td>\n",
       "      <td>student</td>\n",
       "      <td>3259909290</td>\n",
       "      <td>1461 Briarhill Lane</td>\n",
       "      <td>Abilene</td>\n",
       "      <td>TX</td>\n",
       "      <td>79602</td>\n",
       "    </tr>\n",
       "    <tr>\n",
       "      <th>5</th>\n",
       "      <td>6</td>\n",
       "      <td>Jane</td>\n",
       "      <td>Evans</td>\n",
       "      <td>student</td>\n",
       "      <td>3259909290</td>\n",
       "      <td>1461 Briarhill Lane</td>\n",
       "      <td>Abilene</td>\n",
       "      <td>TX</td>\n",
       "      <td>79602</td>\n",
       "    </tr>\n",
       "    <tr>\n",
       "      <th>6</th>\n",
       "      <td>7</td>\n",
       "      <td>Mary</td>\n",
       "      <td>Raines</td>\n",
       "      <td>student</td>\n",
       "      <td>9075772295</td>\n",
       "      <td>3975 Jerry Toth Drive</td>\n",
       "      <td>Ninilchik</td>\n",
       "      <td>AK</td>\n",
       "      <td>99639</td>\n",
       "    </tr>\n",
       "    <tr>\n",
       "      <th>7</th>\n",
       "      <td>8</td>\n",
       "      <td>Ed</td>\n",
       "      <td>Lyman</td>\n",
       "      <td>student</td>\n",
       "      <td>5179695576</td>\n",
       "      <td>3478 Be Sreet</td>\n",
       "      <td>Lansing</td>\n",
       "      <td>MI</td>\n",
       "      <td>48933</td>\n",
       "    </tr>\n",
       "    <tr>\n",
       "      <th>8</th>\n",
       "      <td>9</td>\n",
       "      <td>Christine</td>\n",
       "      <td>Holden</td>\n",
       "      <td>staff</td>\n",
       "      <td>2035687697</td>\n",
       "      <td>1672 Whitman Court</td>\n",
       "      <td>Stamford</td>\n",
       "      <td>CT</td>\n",
       "      <td>6995</td>\n",
       "    </tr>\n",
       "    <tr>\n",
       "      <th>9</th>\n",
       "      <td>10</td>\n",
       "      <td>Christopher</td>\n",
       "      <td>Warren</td>\n",
       "      <td>student</td>\n",
       "      <td>2175150957</td>\n",
       "      <td>1935 University Hill Road</td>\n",
       "      <td>Champaign</td>\n",
       "      <td>IL</td>\n",
       "      <td>61938</td>\n",
       "    </tr>\n",
       "    <tr>\n",
       "      <th>10</th>\n",
       "      <td>11</td>\n",
       "      <td>Linda</td>\n",
       "      <td>Jacobson</td>\n",
       "      <td>staff</td>\n",
       "      <td>4049446441</td>\n",
       "      <td>479 Musgrave Street</td>\n",
       "      <td>Atlanta</td>\n",
       "      <td>GA</td>\n",
       "      <td>30303</td>\n",
       "    </tr>\n",
       "    <tr>\n",
       "      <th>11</th>\n",
       "      <td>12</td>\n",
       "      <td>Andrew</td>\n",
       "      <td>Stepp</td>\n",
       "      <td>student</td>\n",
       "      <td>7866419252</td>\n",
       "      <td>2981 Lamberts Branch Road</td>\n",
       "      <td>Hialeah</td>\n",
       "      <td>Fl</td>\n",
       "      <td>33012</td>\n",
       "    </tr>\n",
       "    <tr>\n",
       "      <th>12</th>\n",
       "      <td>13</td>\n",
       "      <td>Jane</td>\n",
       "      <td>Evans</td>\n",
       "      <td>student</td>\n",
       "      <td>3259909290</td>\n",
       "      <td>1461 Briarhill Lane</td>\n",
       "      <td>Abilene</td>\n",
       "      <td>TX</td>\n",
       "      <td>79602</td>\n",
       "    </tr>\n",
       "    <tr>\n",
       "      <th>13</th>\n",
       "      <td>14</td>\n",
       "      <td>Jane</td>\n",
       "      <td>Evans</td>\n",
       "      <td>student</td>\n",
       "      <td>3259909290</td>\n",
       "      <td>1461 Briarhill Lane</td>\n",
       "      <td>Abilene</td>\n",
       "      <td>TX</td>\n",
       "      <td>79602</td>\n",
       "    </tr>\n",
       "    <tr>\n",
       "      <th>14</th>\n",
       "      <td>15</td>\n",
       "      <td>Mary</td>\n",
       "      <td>Raines</td>\n",
       "      <td>student</td>\n",
       "      <td>9075772295</td>\n",
       "      <td>3975 Jerry Toth Drive</td>\n",
       "      <td>Ninilchik</td>\n",
       "      <td>AK</td>\n",
       "      <td>99639</td>\n",
       "    </tr>\n",
       "    <tr>\n",
       "      <th>15</th>\n",
       "      <td>16</td>\n",
       "      <td>Ed</td>\n",
       "      <td>Lyman</td>\n",
       "      <td>student</td>\n",
       "      <td>5179695576</td>\n",
       "      <td>3478 Be Sreet</td>\n",
       "      <td>Lansing</td>\n",
       "      <td>MI</td>\n",
       "      <td>48933</td>\n",
       "    </tr>\n",
       "  </tbody>\n",
       "</table>\n",
       "</div>"
      ],
      "text/plain": [
       "    id    firstName  lastName     role  telephoneNumber  \\\n",
       "0    1    Christine    Holden    staff       2035687697   \n",
       "1    2  Christopher    Warren  student       2175150957   \n",
       "2    3        Linda  Jacobson    staff       4049446441   \n",
       "3    4       Andrew     Stepp  student       7866419252   \n",
       "4    5         Jane     Evans  student       3259909290   \n",
       "5    6         Jane     Evans  student       3259909290   \n",
       "6    7         Mary    Raines  student       9075772295   \n",
       "7    8           Ed     Lyman  student       5179695576   \n",
       "8    9    Christine    Holden    staff       2035687697   \n",
       "9   10  Christopher    Warren  student       2175150957   \n",
       "10  11        Linda  Jacobson    staff       4049446441   \n",
       "11  12       Andrew     Stepp  student       7866419252   \n",
       "12  13         Jane     Evans  student       3259909290   \n",
       "13  14         Jane     Evans  student       3259909290   \n",
       "14  15         Mary    Raines  student       9075772295   \n",
       "15  16           Ed     Lyman  student       5179695576   \n",
       "\n",
       "                       street       city state  zipcode  \n",
       "0          1672 Whitman Court   Stamford    CT     6995  \n",
       "1   1935 University Hill Road  Champaign    IL    61938  \n",
       "2         479 Musgrave Street    Atlanta    GA    30303  \n",
       "3   2981 Lamberts Branch Road    Hialeah    Fl    33012  \n",
       "4         1461 Briarhill Lane    Abilene    TX    79602  \n",
       "5         1461 Briarhill Lane    Abilene    TX    79602  \n",
       "6       3975 Jerry Toth Drive  Ninilchik    AK    99639  \n",
       "7               3478 Be Sreet    Lansing    MI    48933  \n",
       "8          1672 Whitman Court   Stamford    CT     6995  \n",
       "9   1935 University Hill Road  Champaign    IL    61938  \n",
       "10        479 Musgrave Street    Atlanta    GA    30303  \n",
       "11  2981 Lamberts Branch Road    Hialeah    Fl    33012  \n",
       "12        1461 Briarhill Lane    Abilene    TX    79602  \n",
       "13        1461 Briarhill Lane    Abilene    TX    79602  \n",
       "14      3975 Jerry Toth Drive  Ninilchik    AK    99639  \n",
       "15              3478 Be Sreet    Lansing    MI    48933  "
      ]
     },
     "execution_count": 39,
     "metadata": {},
     "output_type": "execute_result"
    }
   ],
   "source": [
    "df"
   ]
  },
  {
   "cell_type": "markdown",
   "metadata": {},
   "source": [
    "## Updating an Address\n",
    "\n",
    "Ed Lyman just moved to `2910 Simpson Avenue York, PA 17403`. Update his address accordingly."
   ]
  },
  {
   "cell_type": "code",
   "execution_count": 42,
   "metadata": {},
   "outputs": [
    {
     "data": {
      "text/plain": [
       "<sqlite3.Cursor at 0x7fdf7292c650>"
      ]
     },
     "execution_count": 42,
     "metadata": {},
     "output_type": "execute_result"
    }
   ],
   "source": [
    "# Update Ed's address\n",
    "cur.execute('''\n",
    "UPDATE contactInfo\n",
    "SET street = '2910 Simpson Avenue',\n",
    "city = 'York',\n",
    "state = 'PA',\n",
    "zipcode = 17403\n",
    "WHERE lastName = 'Lyman' \n",
    "''')"
   ]
  },
  {
   "cell_type": "code",
   "execution_count": 47,
   "metadata": {},
   "outputs": [
    {
     "data": {
      "text/html": [
       "<div>\n",
       "<style scoped>\n",
       "    .dataframe tbody tr th:only-of-type {\n",
       "        vertical-align: middle;\n",
       "    }\n",
       "\n",
       "    .dataframe tbody tr th {\n",
       "        vertical-align: top;\n",
       "    }\n",
       "\n",
       "    .dataframe thead th {\n",
       "        text-align: right;\n",
       "    }\n",
       "</style>\n",
       "<table border=\"1\" class=\"dataframe\">\n",
       "  <thead>\n",
       "    <tr style=\"text-align: right;\">\n",
       "      <th></th>\n",
       "      <th>id</th>\n",
       "      <th>firstName</th>\n",
       "      <th>lastName</th>\n",
       "      <th>role</th>\n",
       "      <th>telephoneNumber</th>\n",
       "      <th>street</th>\n",
       "      <th>city</th>\n",
       "      <th>state</th>\n",
       "      <th>zipcode</th>\n",
       "    </tr>\n",
       "  </thead>\n",
       "  <tbody>\n",
       "    <tr>\n",
       "      <th>0</th>\n",
       "      <td>1</td>\n",
       "      <td>Christine</td>\n",
       "      <td>Holden</td>\n",
       "      <td>staff</td>\n",
       "      <td>2035687697</td>\n",
       "      <td>1672 Whitman Court</td>\n",
       "      <td>Stamford</td>\n",
       "      <td>CT</td>\n",
       "      <td>6995</td>\n",
       "    </tr>\n",
       "    <tr>\n",
       "      <th>1</th>\n",
       "      <td>2</td>\n",
       "      <td>Christopher</td>\n",
       "      <td>Warren</td>\n",
       "      <td>student</td>\n",
       "      <td>2175150957</td>\n",
       "      <td>1935 University Hill Road</td>\n",
       "      <td>Champaign</td>\n",
       "      <td>IL</td>\n",
       "      <td>61938</td>\n",
       "    </tr>\n",
       "    <tr>\n",
       "      <th>2</th>\n",
       "      <td>3</td>\n",
       "      <td>Linda</td>\n",
       "      <td>Jacobson</td>\n",
       "      <td>staff</td>\n",
       "      <td>4049446441</td>\n",
       "      <td>479 Musgrave Street</td>\n",
       "      <td>Atlanta</td>\n",
       "      <td>GA</td>\n",
       "      <td>30303</td>\n",
       "    </tr>\n",
       "    <tr>\n",
       "      <th>3</th>\n",
       "      <td>4</td>\n",
       "      <td>Andrew</td>\n",
       "      <td>Stepp</td>\n",
       "      <td>student</td>\n",
       "      <td>7866419252</td>\n",
       "      <td>2981 Lamberts Branch Road</td>\n",
       "      <td>Hialeah</td>\n",
       "      <td>Fl</td>\n",
       "      <td>33012</td>\n",
       "    </tr>\n",
       "    <tr>\n",
       "      <th>4</th>\n",
       "      <td>7</td>\n",
       "      <td>Mary</td>\n",
       "      <td>Raines</td>\n",
       "      <td>student</td>\n",
       "      <td>9075772295</td>\n",
       "      <td>3975 Jerry Toth Drive</td>\n",
       "      <td>Ninilchik</td>\n",
       "      <td>AK</td>\n",
       "      <td>99639</td>\n",
       "    </tr>\n",
       "    <tr>\n",
       "      <th>5</th>\n",
       "      <td>14</td>\n",
       "      <td>Jane</td>\n",
       "      <td>Evans</td>\n",
       "      <td>student</td>\n",
       "      <td>3259909290</td>\n",
       "      <td>1461 Briarhill Lane</td>\n",
       "      <td>Abilene</td>\n",
       "      <td>TX</td>\n",
       "      <td>79602</td>\n",
       "    </tr>\n",
       "    <tr>\n",
       "      <th>6</th>\n",
       "      <td>16</td>\n",
       "      <td>Ed</td>\n",
       "      <td>Lyman</td>\n",
       "      <td>student</td>\n",
       "      <td>5179695576</td>\n",
       "      <td>2910 Simpson Avenue</td>\n",
       "      <td>York</td>\n",
       "      <td>PA</td>\n",
       "      <td>17403</td>\n",
       "    </tr>\n",
       "  </tbody>\n",
       "</table>\n",
       "</div>"
      ],
      "text/plain": [
       "   id    firstName  lastName     role  telephoneNumber  \\\n",
       "0   1    Christine    Holden    staff       2035687697   \n",
       "1   2  Christopher    Warren  student       2175150957   \n",
       "2   3        Linda  Jacobson    staff       4049446441   \n",
       "3   4       Andrew     Stepp  student       7866419252   \n",
       "4   7         Mary    Raines  student       9075772295   \n",
       "5  14         Jane     Evans  student       3259909290   \n",
       "6  16           Ed     Lyman  student       5179695576   \n",
       "\n",
       "                      street       city state  zipcode  \n",
       "0         1672 Whitman Court   Stamford    CT     6995  \n",
       "1  1935 University Hill Road  Champaign    IL    61938  \n",
       "2        479 Musgrave Street    Atlanta    GA    30303  \n",
       "3  2981 Lamberts Branch Road    Hialeah    Fl    33012  \n",
       "4      3975 Jerry Toth Drive  Ninilchik    AK    99639  \n",
       "5        1461 Briarhill Lane    Abilene    TX    79602  \n",
       "6        2910 Simpson Avenue       York    PA    17403  "
      ]
     },
     "execution_count": 47,
     "metadata": {},
     "output_type": "execute_result"
    }
   ],
   "source": [
    "# Query the database to ensure the change was made\n",
    "cur.execute('''\n",
    "SELECT *\n",
    "FROM contactInfo\n",
    "''')\n",
    "df = pd.DataFrame(cur.fetchall())\n",
    "df.columns = [x[0] for x in cur.description]\n",
    "df"
   ]
  },
  {
   "cell_type": "code",
   "execution_count": 45,
   "metadata": {},
   "outputs": [
    {
     "data": {
      "text/plain": [
       "<sqlite3.Cursor at 0x7fdf7292c650>"
      ]
     },
     "execution_count": 45,
     "metadata": {},
     "output_type": "execute_result"
    }
   ],
   "source": [
    "# Deleting Jane evans again. I'm not sure what I did to move the line to #6 instead of deleting it.\n",
    "cur.execute('''\n",
    "DELETE FROM contactInfo\n",
    "WHERE  id = 6; \n",
    "''')"
   ]
  },
  {
   "cell_type": "markdown",
   "metadata": {},
   "source": [
    "## Commit Your Changes to the Database\n",
    "\n",
    "Once again, persist your changes by committing them to the database."
   ]
  },
  {
   "cell_type": "code",
   "execution_count": 48,
   "metadata": {},
   "outputs": [],
   "source": [
    "# Your code here\n",
    "conn.commit()"
   ]
  },
  {
   "cell_type": "markdown",
   "metadata": {},
   "source": [
    "## Summary\n",
    "\n",
    "While there's certainly more to do with setting up and managing this database, you got a taste for creating, populating, and maintaining databases! Feel free to continue fleshing out this exercise for more practice. "
   ]
  }
 ],
 "metadata": {
  "kernelspec": {
   "display_name": "Python 3",
   "language": "python",
   "name": "python3"
  },
  "language_info": {
   "codemirror_mode": {
    "name": "ipython",
    "version": 3
   },
   "file_extension": ".py",
   "mimetype": "text/x-python",
   "name": "python",
   "nbconvert_exporter": "python",
   "pygments_lexer": "ipython3",
   "version": "3.6.9"
  },
  "toc": {
   "base_numbering": 1,
   "nav_menu": {},
   "number_sections": true,
   "sideBar": true,
   "skip_h1_title": false,
   "title_cell": "Table of Contents",
   "title_sidebar": "Contents",
   "toc_cell": false,
   "toc_position": {},
   "toc_section_display": true,
   "toc_window_display": false
  }
 },
 "nbformat": 4,
 "nbformat_minor": 2
}
